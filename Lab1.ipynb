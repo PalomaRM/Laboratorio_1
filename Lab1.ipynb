{
 "cells": [
  {
   "cell_type": "code",
   "execution_count": 1,
   "id": "434cc58e",
   "metadata": {},
   "outputs": [],
   "source": [
    "from pathlib import Path\n",
    "import pandas as pd\n",
    "import glob\n",
    "import pandas_datareader.data as web\n",
    "import re\n",
    "import yfinance as yf"
   ]
  },
  {
   "cell_type": "code",
   "execution_count": 2,
   "id": "37138939",
   "metadata": {},
   "outputs": [],
   "source": [
    "data = pd.DataFrame()\n",
    "path=(r'C:\\Users\\Paloma\\Documents\\ITESO\\9\\Trading\\Lab1\\Laboratorio_1\\files')\n",
    "filenames = glob.glob(path +\"/*.csv\")\n",
    "df=[]\n",
    "\n",
    "for file in range(len(filenames)):\n",
    "    data_read=pd.read_csv(filenames[file], skiprows=2, usecols=['Ticker'],skip_blank_lines=True)\n",
    "    df.append(data_read)\n",
    "    df_final=pd.concat(df)\n"
   ]
  },
  {
   "cell_type": "code",
   "execution_count": 3,
   "id": "d3c78239",
   "metadata": {
    "scrolled": true
   },
   "outputs": [
    {
     "data": {
      "text/html": [
       "<div>\n",
       "<style scoped>\n",
       "    .dataframe tbody tr th:only-of-type {\n",
       "        vertical-align: middle;\n",
       "    }\n",
       "\n",
       "    .dataframe tbody tr th {\n",
       "        vertical-align: top;\n",
       "    }\n",
       "\n",
       "    .dataframe thead th {\n",
       "        text-align: right;\n",
       "    }\n",
       "</style>\n",
       "<table border=\"1\" class=\"dataframe\">\n",
       "  <thead>\n",
       "    <tr style=\"text-align: right;\">\n",
       "      <th></th>\n",
       "      <th>Ticker</th>\n",
       "    </tr>\n",
       "  </thead>\n",
       "  <tbody>\n",
       "    <tr>\n",
       "      <th>0</th>\n",
       "      <td>AMXL</td>\n",
       "    </tr>\n",
       "    <tr>\n",
       "      <th>1</th>\n",
       "      <td>WALMEX*</td>\n",
       "    </tr>\n",
       "    <tr>\n",
       "      <th>2</th>\n",
       "      <td>GMEXICOB</td>\n",
       "    </tr>\n",
       "    <tr>\n",
       "      <th>3</th>\n",
       "      <td>FEMSAUBD</td>\n",
       "    </tr>\n",
       "    <tr>\n",
       "      <th>4</th>\n",
       "      <td>GFNORTEO</td>\n",
       "    </tr>\n",
       "    <tr>\n",
       "      <th>...</th>\n",
       "      <td>...</td>\n",
       "    </tr>\n",
       "    <tr>\n",
       "      <th>33</th>\n",
       "      <td>BOLSAA</td>\n",
       "    </tr>\n",
       "    <tr>\n",
       "      <th>34</th>\n",
       "      <td>VOLARA</td>\n",
       "    </tr>\n",
       "    <tr>\n",
       "      <th>35</th>\n",
       "      <td>MEGACPO</td>\n",
       "    </tr>\n",
       "    <tr>\n",
       "      <th>36</th>\n",
       "      <td>LASITEB.1</td>\n",
       "    </tr>\n",
       "    <tr>\n",
       "      <th>37</th>\n",
       "      <td></td>\n",
       "    </tr>\n",
       "  </tbody>\n",
       "</table>\n",
       "<p>929 rows × 1 columns</p>\n",
       "</div>"
      ],
      "text/plain": [
       "       Ticker\n",
       "0        AMXL\n",
       "1     WALMEX*\n",
       "2    GMEXICOB\n",
       "3    FEMSAUBD\n",
       "4    GFNORTEO\n",
       "..        ...\n",
       "33     BOLSAA\n",
       "34     VOLARA\n",
       "35    MEGACPO\n",
       "36  LASITEB.1\n",
       "37           \n",
       "\n",
       "[929 rows x 1 columns]"
      ]
     },
     "execution_count": 3,
     "metadata": {},
     "output_type": "execute_result"
    }
   ],
   "source": [
    "df_final"
   ]
  },
  {
   "cell_type": "code",
   "execution_count": 3,
   "id": "7a3636f7",
   "metadata": {},
   "outputs": [
    {
     "data": {
      "text/plain": [
       "['AC.MX',\n",
       " 'OMAB.MX',\n",
       " 'GRUMAB.MX',\n",
       " 'KIMBERA.MX',\n",
       " 'ALFAA.MX',\n",
       " 'LIVEPOLC-1.MX',\n",
       " 'MEGACPO.MX',\n",
       " 'MXN.MX',\n",
       " 'ORBIA.MX',\n",
       " 'GFNORTEO.MX',\n",
       " 'PE&OLES.MX',\n",
       " 'PINFRA.MX',\n",
       " 'Q.MX',\n",
       " 'TLEVISACPO.MX',\n",
       " 'VESTA.MX',\n",
       " 'WALMEX.MX',\n",
       " 'GMEXICOB.MX',\n",
       " 'KOFUBL.MX',\n",
       " 'GFINBURO.MX',\n",
       " 'ELEKTRA.MX',\n",
       " 'ALSEA.MX',\n",
       " 'AMXL.MX',\n",
       " 'ASURB.MX',\n",
       " 'BBAJIOO.MX',\n",
       " 'BIMBOA.MX',\n",
       " 'BOLSAA.MX',\n",
       " 'CUERVO.MX',\n",
       " 'CEMEXCPO.MX',\n",
       " 'FEMSAUBD.MX',\n",
       " 'GAPB.MX',\n",
       " 'GCARSOA1.MX',\n",
       " 'GCC.MX']"
      ]
     },
     "execution_count": 3,
     "metadata": {},
     "output_type": "execute_result"
    }
   ],
   "source": [
    "# obtener tickers unicos para yfinance\n",
    "tickers=df_final.value_counts().loc[lambda x: x>=25]\n",
    "tickers=tickers.drop(tickers.index[-1])\n",
    "tickers=list(tickers.index)\n",
    "for i in range(0,len(tickers)):\n",
    "    tickers[i]=str(tickers[i]).replace('*','')\n",
    "    tickers[i]=str(tickers[i]).replace('.1','-1')\n",
    "\n",
    "\n",
    "lista_de_listas = list(map(lambda x:re.findall(r'([A-Z]+).*', x) ,tickers))\n",
    "final = [ticker[0] + '.MX' for ticker in lista_de_listas]\n",
    "final[5]='LIVEPOLC-1.MX'\n",
    "final[30]='GCARSOA1.MX'\n",
    "final[10]='PE&OLES.MX'\n",
    "final"
   ]
  },
  {
   "cell_type": "code",
   "execution_count": 4,
   "id": "df9c4912",
   "metadata": {},
   "outputs": [],
   "source": [
    "yf.pdr_override()    \n",
    "# Función para descargar precios de cierre ajustados:\n",
    "def get_adj_closes(tickers,\n",
    "                   start_date=None,\n",
    "                   end_date=None):\n",
    "    # Descargamos DataFrame con todos los datos\n",
    "    closes = web.get_data_yahoo(\n",
    "        tickers=tickers,\n",
    "        start=start_date,\n",
    "        end=end_date)\n",
    "    # Solo necesitamos los precios ajustados en el cierre\n",
    "    closes = closes['Adj Close']\n",
    "    # Se ordenan los índices de manera ascendente\n",
    "    closes.sort_index(inplace=True)\n",
    "    return closes"
   ]
  },
  {
   "cell_type": "code",
   "execution_count": 5,
   "id": "dbd49e98",
   "metadata": {},
   "outputs": [],
   "source": [
    "# Información\n",
    "tickers = final\n",
    "start_date = \"2021-01-29\"\n",
    "end_date=\"2023-01-25\""
   ]
  },
  {
   "cell_type": "code",
   "execution_count": 6,
   "id": "c7c49159",
   "metadata": {},
   "outputs": [
    {
     "name": "stdout",
     "output_type": "stream",
     "text": [
      "[*********************100%***********************]  32 of 32 completed\n",
      "\n",
      "1 Failed download:\n",
      "- MXN.MX: No data found, symbol may be delisted\n"
     ]
    }
   ],
   "source": [
    "# Precios diarios ajustados en el cierre\n",
    "closes = get_adj_closes(\n",
    "    tickers=tickers,\n",
    "    start_date=start_date,\n",
    "    end_date=end_date)"
   ]
  },
  {
   "cell_type": "code",
   "execution_count": 11,
   "id": "4cc9f694",
   "metadata": {},
   "outputs": [],
   "source": [
    "closes.to_csv(r'C:\\Users\\Paloma\\Documents\\ITESO\\9\\Trading\\Lab1\\Laboratorio_1\\closes_files.csv')"
   ]
  }
 ],
 "metadata": {
  "kernelspec": {
   "display_name": "Python 3 (ipykernel)",
   "language": "python",
   "name": "python3"
  },
  "language_info": {
   "codemirror_mode": {
    "name": "ipython",
    "version": 3
   },
   "file_extension": ".py",
   "mimetype": "text/x-python",
   "name": "python",
   "nbconvert_exporter": "python",
   "pygments_lexer": "ipython3",
   "version": "3.9.7"
  }
 },
 "nbformat": 4,
 "nbformat_minor": 5
}
