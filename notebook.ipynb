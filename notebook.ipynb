{
 "cells": [
  {
   "cell_type": "markdown",
   "id": "940accd6",
   "metadata": {},
   "source": [
    "# MAF1731B- Microestructura y Sistemas de Trading"
   ]
  },
  {
   "cell_type": "markdown",
   "id": "d4757e5e",
   "metadata": {},
   "source": [
    "## Paloma Rodríguez Medel"
   ]
  },
  {
   "cell_type": "markdown",
   "id": "d64d9631",
   "metadata": {},
   "source": [
    "### Laboratorio 1: Inversión de capital"
   ]
  },
  {
   "cell_type": "markdown",
   "id": "304d93dd",
   "metadata": {},
   "source": [
    "Poder responder la pregunta _¿Qué estrategia de inversión propondrías si tu trabajo fuera invertir 1 Millón de pesos?_\n",
    "\n",
    "Caso: Tienes 1 Millón de pesos, tienes dos opciones para invertirlos. Por un lado, puedes hacer una Inversión Pasiva del capital, comprando el 100% del capital de títulos de un ETF que replica al mercado de renta variable mexicano S&P/BMV IPC que es el NAFTRAC. Pero por otro lado, puedes hacer una Inversión Activa del capital, al crear un portafolio que tenga los mismos activos que el ETF y haciendo el rebalanceo por medio de un algoritmo en específico."
   ]
  },
  {
   "cell_type": "markdown",
   "id": "a5da6741",
   "metadata": {},
   "source": [
    "#### Introducción"
   ]
  },
  {
   "cell_type": "markdown",
   "id": "90f59fb8",
   "metadata": {},
   "source": [
    "* def naftrac\n",
    "+ def etf\n",
    "+ dif entre activa y pasiva\n",
    "+ portafolio eficiente"
   ]
  },
  {
   "cell_type": "markdown",
   "id": "dd063aa5",
   "metadata": {},
   "source": [
    "#### Objetivos\n",
    "- Identificar las principales diferencias entre una inversión pasiva y una inversión activa de una manera cuantitativa.\n",
    "- Reconocer la importancia de los ETF's en el mercado acutal y cómo está cambiando el mercado después de las bajas que se han presentado en los últimos años."
   ]
  },
  {
   "cell_type": "markdown",
   "id": "1f13f70f",
   "metadata": {},
   "source": [
    "#### Datos utilizados\n",
    "\n",
    "Para la realización de este proyecto utilizamos 25 archivos con los datos históricos de 2 años del NAFTRAC entre los periodos del 01/29/2021 al 01/25/2023, utilizando el último día hábil del mes. "
   ]
  },
  {
   "cell_type": "code",
   "execution_count": 1,
   "id": "e92135ab-e785-47e3-8787-1e5b57479e9a",
   "metadata": {},
   "outputs": [],
   "source": [
    "from pathlib import Path\n",
    "import pandas as pd\n",
    "import glob\n",
    "import pandas_datareader.data as web\n",
    "import re\n",
    "import yfinance as yf\n",
    "import functions as fn\n",
    "import data as dt\n",
    "import main as mn"
   ]
  },
  {
   "cell_type": "code",
   "execution_count": null,
   "id": "2886d01b-ebd2-4ac5-8713-0e162231b067",
   "metadata": {},
   "outputs": [],
   "source": []
  },
  {
   "cell_type": "markdown",
   "id": "2129bb6d-cd10-46ed-9a45-6e577cb6c751",
   "metadata": {},
   "source": [
    "#### Procesos"
   ]
  },
  {
   "cell_type": "code",
   "execution_count": null,
   "id": "5f12275e-21ee-4952-916e-f96b5ff06e3a",
   "metadata": {},
   "outputs": [],
   "source": []
  },
  {
   "cell_type": "markdown",
   "id": "7351819e-6e81-48e4-9ab3-80cd8962fc85",
   "metadata": {},
   "source": [
    "#### Conclusión"
   ]
  },
  {
   "cell_type": "code",
   "execution_count": null,
   "id": "876f3f4a-8779-4df1-80ea-3e7a6e7c3c7b",
   "metadata": {},
   "outputs": [],
   "source": []
  }
 ],
 "metadata": {
  "kernelspec": {
   "display_name": "Python 3 (ipykernel)",
   "language": "python",
   "name": "python3"
  },
  "language_info": {
   "codemirror_mode": {
    "name": "ipython",
    "version": 3
   },
   "file_extension": ".py",
   "mimetype": "text/x-python",
   "name": "python",
   "nbconvert_exporter": "python",
   "pygments_lexer": "ipython3",
   "version": "3.9.7"
  }
 },
 "nbformat": 4,
 "nbformat_minor": 5
}
