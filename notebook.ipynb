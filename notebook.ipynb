{
 "cells": [
  {
   "cell_type": "markdown",
   "metadata": {},
   "source": [
    "<center> <img src=\"http://oci02.img.iteso.mx/identidad_de_instancia_2018/ITESO/Logos%20ITESO/Logo-ITESO-Principal.jpg\" align=\"center\" width=\"960\" height=\"480\"/> </center>"
   ]
  },
  {
   "cell_type": "markdown",
   "metadata": {},
   "source": [
    "<center><font color=#555555><font size=6> MAF1731 - Microstructure and Trading Systems </font> <br> <br>\n",
    "    \n",
    "<center><font color=#555555><font size=5> B.Eng Financial Engineering </font> <br> <br> <br> <br>\n",
    "\n",
    "<center><font color=#555555><font size=6> I.F. Paloma Rodriguez Medel </font> <br> <br>\n",
    "   \n",
    "<center> <font color= #555555> <font size = 4> Feb 2023 </a> | <font color= #555555> <font size = 4> Repository: <a href='https://github.com/PalomaRM/Laboratorio_1'>Link</a></font>"
   ]
  },
  {
   "cell_type": "markdown",
   "metadata": {},
   "source": [
    "<hr style=\"border:0.02in solid gray\"> </hr>"
   ]
  },
  {
   "cell_type": "markdown",
   "metadata": {},
   "source": [
    "<center> <font color= #555555> <font size = 6> Lab 1 </font> <br> <br> <font color= #555555> <font size = 5> Some interesting title for your work  </font>"
   ]
  },
  {
   "cell_type": "markdown",
   "metadata": {},
   "source": [
    "<hr style=\"border:0.02in solid gray\"> </hr>"
   ]
  },
  {
   "cell_type": "markdown",
   "metadata": {},
   "source": [
    "<br>"
   ]
  },
  {
   "cell_type": "markdown",
   "metadata": {},
   "source": [
    "<br>"
   ]
  },
  {
   "cell_type": "markdown",
   "metadata": {},
   "source": [
    "# <font color= #6B6B6B> <font size = 6> 1. Introduction </font>"
   ]
  },
  {
   "cell_type": "markdown",
   "metadata": {},
   "source": [
    "<hr style=\"border:0.02in solid gray\"> </hr>"
   ]
  },
  {
   "cell_type": "markdown",
   "metadata": {},
   "source": [
    "Hoy en día se han vuelto muy populares los ETF's, los cuales son un fondo que cotiza en bolsa, ofreciendole a las personas la oportunidad de invertir en una cartera realizada por profesionales para maximizar sus ganancias, en lugar de manejar de manera diaria sus movimientos de compra y venta. El objetivo de este laboratorio era comparar la inversión activa y pasiva del NAFTRAC en donde podíamos replicar durante 2 años los movimientos del ETF o realizar nuestros propios movimientos utilizando los mismos activos incluidos en el índice. Se dice que la inversion en ETF está enfocada mayormente a largo plazo, mientras que la inversión activa es para personas con un enfoque mas analítico."
   ]
  },
  {
   "cell_type": "markdown",
   "metadata": {},
   "source": [
    "<br>"
   ]
  },
  {
   "cell_type": "markdown",
   "metadata": {},
   "source": [
    "# <font color= #6B6B6B> 2. Install/Load Packages and Depedencies </font>"
   ]
  },
  {
   "cell_type": "markdown",
   "metadata": {},
   "source": [
    "<hr style=\"border:0.02in solid gray\"> </hr>"
   ]
  },
  {
   "cell_type": "markdown",
   "metadata": {},
   "source": [
    "<br>"
   ]
  },
  {
   "cell_type": "code",
   "execution_count": 1,
   "metadata": {},
   "outputs": [],
   "source": [
    "from pathlib import Path\n",
    "import pandas as pd\n",
    "import glob\n",
    "import pandas_datareader.data as web\n",
    "import re\n",
    "import yfinance as yf\n",
    "import numpy as np\n",
    "from scipy.optimize import minimize\n",
    "import matplotlib.pyplot as plt\n",
    "import locale\n",
    "locale.setlocale( locale.LC_ALL, '' )\n",
    "#import functions as fn\n",
    "#import data as dt\n",
    "import main as mn"
   ]
  },
  {
   "cell_type": "markdown",
   "metadata": {},
   "source": [
    "## <font color= #6B6B6B> 2.2 Python Packages </font> <font color= #555555>"
   ]
  },
  {
   "cell_type": "markdown",
   "metadata": {},
   "source": [
    "In order to run this notebook, it is necessary to have installed and/or have the _requirements.txt_ file with the following: "
   ]
  },
  {
   "cell_type": "markdown",
   "metadata": {},
   "source": [
    "- pandas>=1.1.1 \n",
    "- numpy>=1.19.1\n",
    "- jupyter>=1.0.0\n",
    "- _Add any other here_"
   ]
  },
  {
   "cell_type": "markdown",
   "metadata": {},
   "source": [
    "## <font color= #6B6B6B> 2.3 Files Dependencies </font> <font color= #555555>"
   ]
  },
  {
   "cell_type": "markdown",
   "metadata": {},
   "source": [
    "The following are the file dependencies that are needed to run this notebook:"
   ]
  },
  {
   "cell_type": "markdown",
   "metadata": {},
   "source": [
    "- files/NAFTRAC.csv : Precios históricos\n",
    "- files/closes.txt : Datios diarios Yahoo Finance"
   ]
  },
  {
   "cell_type": "markdown",
   "metadata": {},
   "source": [
    "## <font color= #6E6E6E> 2.3 Install Packages</font>"
   ]
  },
  {
   "cell_type": "code",
   "execution_count": 2,
   "metadata": {},
   "outputs": [],
   "source": [
    "%%capture\n",
    "\n",
    "# Install all the pip packages in the requirements.txt\n",
    "import sys\n",
    "!{sys.executable} -m pip install -r requirements.txt"
   ]
  },
  {
   "cell_type": "markdown",
   "metadata": {},
   "source": [
    "<br>"
   ]
  },
  {
   "cell_type": "markdown",
   "metadata": {},
   "source": [
    "# <font color= #6B6B6B> 3. Data Description </font>"
   ]
  },
  {
   "cell_type": "markdown",
   "metadata": {},
   "source": [
    "<hr style=\"border:0.02in solid gray\"> </hr>"
   ]
  },
  {
   "cell_type": "markdown",
   "metadata": {},
   "source": [
    "Para la realización de este proyecto utilizamos 25 archivos con los datos históricos de 2 años del NAFTRAC entre los periodos del 01/29/2021 al 01/25/2023, utilizando el último día hábil del mes. Cada archvio tenia 16 columnas y al rededor de 36 filas dependiendo de los rebalanceos. Las columnas eran:\n",
    "- Ticker: etiqueta de cotización\n",
    "- Nombre: Nombre del activo\n",
    "- Clase de activo: Equity\n",
    "- Peso (%): ponderación\n",
    "- Precio: Precio promedio del activo del día\n",
    "- Acciones: cantidad de acciones\n",
    "- Valor de mercado\n",
    "- Valor nominal\n",
    "- Sector\n",
    "- ISIN: identificador internacional\n",
    "- Bolsa de valores: BMV\n",
    "- Ubicación: Mexico\n",
    "- Moneda: MXN\n",
    "- Mercado de divisas: MXN\n",
    "- Tipo de Cambio\n",
    "\n",
    "Solamente se utilizaron las columnas de Ticker y Peso (%).\n",
    "\n",
    "Los tickers incluidos cada mes pueden variar, para el laboratorio solamente era necesario utilizar los que se repetían en los 25 archivos, por lo que se trabajó con 31 tickers y se eliminaron 11. Se utilizaron los siguientes:"
   ]
  },
  {
   "cell_type": "code",
   "execution_count": 3,
   "metadata": {},
   "outputs": [
    {
     "data": {
      "text/plain": [
       "['AC.MX',\n",
       " 'OMAB.MX',\n",
       " 'GRUMAB.MX',\n",
       " 'KIMBERA.MX',\n",
       " 'ALFAA.MX',\n",
       " 'LIVEPOLC-1.MX',\n",
       " 'MEGACPO.MX',\n",
       " 'MXN.MX',\n",
       " 'ORBIA.MX',\n",
       " 'GFNORTEO.MX',\n",
       " 'PE&OLES.MX',\n",
       " 'PINFRA.MX',\n",
       " 'Q.MX',\n",
       " 'TLEVISACPO.MX',\n",
       " 'VESTA.MX',\n",
       " 'WALMEX.MX',\n",
       " 'GMEXICOB.MX',\n",
       " 'KOFUBL.MX',\n",
       " 'GFINBURO.MX',\n",
       " 'ELEKTRA.MX',\n",
       " 'ALSEA.MX',\n",
       " 'AMXL.MX',\n",
       " 'ASURB.MX',\n",
       " 'BBAJIOO.MX',\n",
       " 'BIMBOA.MX',\n",
       " 'BOLSAA.MX',\n",
       " 'CUERVO.MX',\n",
       " 'CEMEXCPO.MX',\n",
       " 'FEMSAUBD.MX',\n",
       " 'GAPB.MX',\n",
       " 'GCARSOA1.MX',\n",
       " 'GCC.MX']"
      ]
     },
     "execution_count": 3,
     "metadata": {},
     "output_type": "execute_result"
    }
   ],
   "source": [
    "mn.unique"
   ]
  },
  {
   "cell_type": "markdown",
   "metadata": {},
   "source": [
    "El precio que aparecía en la columna de 'Precio' dentro de los archivos no era el precio de cierre del dia, por lo se hizo una descarga de los precios de cierre de la plataforma Yahoo Finance utilizando la libreria *yfinance* de las fechas 29/01/2021 al 25/01/2023. Se limpiaron los nombres que no coincidían con la plataforma porque tenían * y les hacía falta agregar .MX para identificar las acciones en la plataforma."
   ]
  },
  {
   "cell_type": "markdown",
   "metadata": {},
   "source": [
    "<br>"
   ]
  },
  {
   "cell_type": "markdown",
   "metadata": {},
   "source": [
    "# <font color= #6B6B6B> <font size = 6> 4. Results </font>"
   ]
  },
  {
   "cell_type": "markdown",
   "metadata": {},
   "source": [
    "<hr style=\"border:0.02in solid gray\"> </hr>"
   ]
  },
  {
   "cell_type": "markdown",
   "metadata": {},
   "source": [
    "El objetivo del laboratorio era comprarar los resultados que obteniamos en la inversion pasiva y en la activa, por lo que se hizo una tabla comparativa con 3 medidas como el rendimiento promedio mensual, rendimiento promedio acumulado y Radio Sharpe. Para la inversión activa se mantuvieron los pesos de NAFTRAC que se utilizaban en el primer archivo, por lo que no hubo comisiones de rebalanceo después del primer mes. En la inversión activa se construyó un portafolio eficiente maximizando el radio de Sharpe, utilizando los rendimientos logarítmicos diarios. Se obtuvieron los siguientes resultados:"
   ]
  },
  {
   "cell_type": "code",
   "execution_count": 4,
   "metadata": {},
   "outputs": [
    {
     "data": {
      "text/html": [
       "<div>\n",
       "<style scoped>\n",
       "    .dataframe tbody tr th:only-of-type {\n",
       "        vertical-align: middle;\n",
       "    }\n",
       "\n",
       "    .dataframe tbody tr th {\n",
       "        vertical-align: top;\n",
       "    }\n",
       "\n",
       "    .dataframe thead th {\n",
       "        text-align: right;\n",
       "    }\n",
       "</style>\n",
       "<table border=\"1\" class=\"dataframe\">\n",
       "  <thead>\n",
       "    <tr style=\"text-align: right;\">\n",
       "      <th></th>\n",
       "      <th>Medida</th>\n",
       "      <th>Descripcion</th>\n",
       "      <th>inv_Pasiva</th>\n",
       "      <th>inv_Activa</th>\n",
       "    </tr>\n",
       "  </thead>\n",
       "  <tbody>\n",
       "    <tr>\n",
       "      <th>0</th>\n",
       "      <td>rend_m</td>\n",
       "      <td>Rendimiento Promedio Mensual</td>\n",
       "      <td>0.070434</td>\n",
       "      <td>2.418411</td>\n",
       "    </tr>\n",
       "    <tr>\n",
       "      <th>1</th>\n",
       "      <td>rend_c</td>\n",
       "      <td>Rendimiento Promedio Acumulado</td>\n",
       "      <td>18.989564</td>\n",
       "      <td>272.575478</td>\n",
       "    </tr>\n",
       "    <tr>\n",
       "      <th>2</th>\n",
       "      <td>sharpe</td>\n",
       "      <td>Radio de Sharpe</td>\n",
       "      <td>2.605393</td>\n",
       "      <td>3.018808</td>\n",
       "    </tr>\n",
       "  </tbody>\n",
       "</table>\n",
       "</div>"
      ],
      "text/plain": [
       "   Medida                     Descripcion inv_Pasiva  inv_Activa\n",
       "0  rend_m    Rendimiento Promedio Mensual   0.070434    2.418411\n",
       "1  rend_c  Rendimiento Promedio Acumulado  18.989564  272.575478\n",
       "2  sharpe                 Radio de Sharpe   2.605393    3.018808"
      ]
     },
     "execution_count": 4,
     "metadata": {},
     "output_type": "execute_result"
    }
   ],
   "source": [
    "mn.df_medidas"
   ]
  },
  {
   "cell_type": "markdown",
   "metadata": {},
   "source": [
    "La inversión activa obtuvo el mayo"
   ]
  },
  {
   "cell_type": "markdown",
   "metadata": {},
   "source": [
    "<br>"
   ]
  },
  {
   "cell_type": "markdown",
   "metadata": {},
   "source": [
    "## <font color= #6B6B6B> 5.1 Results Passive </font>"
   ]
  },
  {
   "cell_type": "code",
   "execution_count": 5,
   "metadata": {},
   "outputs": [
    {
     "data": {
      "text/html": [
       "<div>\n",
       "<style scoped>\n",
       "    .dataframe tbody tr th:only-of-type {\n",
       "        vertical-align: middle;\n",
       "    }\n",
       "\n",
       "    .dataframe tbody tr th {\n",
       "        vertical-align: top;\n",
       "    }\n",
       "\n",
       "    .dataframe thead th {\n",
       "        text-align: right;\n",
       "    }\n",
       "</style>\n",
       "<table border=\"1\" class=\"dataframe\">\n",
       "  <thead>\n",
       "    <tr style=\"text-align: right;\">\n",
       "      <th></th>\n",
       "      <th>capital</th>\n",
       "      <th>rend</th>\n",
       "      <th>rend_acum</th>\n",
       "    </tr>\n",
       "    <tr>\n",
       "      <th>timestamp</th>\n",
       "      <th></th>\n",
       "      <th></th>\n",
       "      <th></th>\n",
       "    </tr>\n",
       "  </thead>\n",
       "  <tbody>\n",
       "    <tr>\n",
       "      <th>29/01/2021</th>\n",
       "      <td>856921.78</td>\n",
       "      <td>NaN</td>\n",
       "      <td>NaN</td>\n",
       "    </tr>\n",
       "    <tr>\n",
       "      <th>02/02/2021</th>\n",
       "      <td>873775.89</td>\n",
       "      <td>0.019668</td>\n",
       "      <td>0.019668</td>\n",
       "    </tr>\n",
       "    <tr>\n",
       "      <th>03/02/2021</th>\n",
       "      <td>878953.93</td>\n",
       "      <td>0.005926</td>\n",
       "      <td>0.025594</td>\n",
       "    </tr>\n",
       "    <tr>\n",
       "      <th>04/02/2021</th>\n",
       "      <td>880233.06</td>\n",
       "      <td>0.001455</td>\n",
       "      <td>0.027050</td>\n",
       "    </tr>\n",
       "    <tr>\n",
       "      <th>05/02/2021</th>\n",
       "      <td>878067.09</td>\n",
       "      <td>-0.002461</td>\n",
       "      <td>0.024589</td>\n",
       "    </tr>\n",
       "    <tr>\n",
       "      <th>...</th>\n",
       "      <td>...</td>\n",
       "      <td>...</td>\n",
       "      <td>...</td>\n",
       "    </tr>\n",
       "    <tr>\n",
       "      <th>18/01/2023</th>\n",
       "      <td>1156787.38</td>\n",
       "      <td>0.003175</td>\n",
       "      <td>0.324373</td>\n",
       "    </tr>\n",
       "    <tr>\n",
       "      <th>19/01/2023</th>\n",
       "      <td>1158114.99</td>\n",
       "      <td>0.001148</td>\n",
       "      <td>0.325520</td>\n",
       "    </tr>\n",
       "    <tr>\n",
       "      <th>20/01/2023</th>\n",
       "      <td>1170172.94</td>\n",
       "      <td>0.010412</td>\n",
       "      <td>0.335932</td>\n",
       "    </tr>\n",
       "    <tr>\n",
       "      <th>23/01/2023</th>\n",
       "      <td>1179682.84</td>\n",
       "      <td>0.008127</td>\n",
       "      <td>0.344059</td>\n",
       "    </tr>\n",
       "    <tr>\n",
       "      <th>24/01/2023</th>\n",
       "      <td>1190913.77</td>\n",
       "      <td>0.009520</td>\n",
       "      <td>0.353579</td>\n",
       "    </tr>\n",
       "  </tbody>\n",
       "</table>\n",
       "<p>503 rows × 3 columns</p>\n",
       "</div>"
      ],
      "text/plain": [
       "               capital      rend  rend_acum\n",
       "timestamp                                  \n",
       "29/01/2021   856921.78       NaN        NaN\n",
       "02/02/2021   873775.89  0.019668   0.019668\n",
       "03/02/2021   878953.93  0.005926   0.025594\n",
       "04/02/2021   880233.06  0.001455   0.027050\n",
       "05/02/2021   878067.09 -0.002461   0.024589\n",
       "...                ...       ...        ...\n",
       "18/01/2023  1156787.38  0.003175   0.324373\n",
       "19/01/2023  1158114.99  0.001148   0.325520\n",
       "20/01/2023  1170172.94  0.010412   0.335932\n",
       "23/01/2023  1179682.84  0.008127   0.344059\n",
       "24/01/2023  1190913.77  0.009520   0.353579\n",
       "\n",
       "[503 rows x 3 columns]"
      ]
     },
     "execution_count": 5,
     "metadata": {},
     "output_type": "execute_result"
    }
   ],
   "source": [
    "mn.res_pasiva"
   ]
  },
  {
   "cell_type": "markdown",
   "metadata": {},
   "source": [
    "<br>"
   ]
  },
  {
   "cell_type": "markdown",
   "metadata": {},
   "source": [
    "## <font color= #6B6B6B> 5.2 Results of active </font>"
   ]
  },
  {
   "cell_type": "markdown",
   "metadata": {},
   "source": [
    "Con el fin de tener una tabla de resultados mas clara, se junto el df_activa y df_operaciones. Se rebalanceaba con los precios diarios con las siguientes reglas:\n",
    "- Disminuir en un 2.5% la posición en títulos de aquellos activos cuyo precio disminuyó un 5% o más\n",
    "- Aumentar en un 2.5% la posición en títulos de aquellos activos cuyo precio aumentó un 5% o más\n",
    "- Considera pagar las mismas comisiones por rebalanceo para cada cambio de posición con cada activo según aplique"
   ]
  },
  {
   "cell_type": "markdown",
   "metadata": {
    "tags": []
   },
   "source": [
    "#### Frontera de mínima varianza\n",
    "Se realizó el calculo de la frontera de mínima varainza como parte del proceso de la inversión activa. Se obtuvo el siguiente resultado:"
   ]
  },
  {
   "cell_type": "code",
   "execution_count": 6,
   "metadata": {},
   "outputs": [
    {
     "data": {
      "text/html": [
       "<div>\n",
       "<style scoped>\n",
       "    .dataframe tbody tr th:only-of-type {\n",
       "        vertical-align: middle;\n",
       "    }\n",
       "\n",
       "    .dataframe tbody tr th {\n",
       "        vertical-align: top;\n",
       "    }\n",
       "\n",
       "    .dataframe thead th {\n",
       "        text-align: right;\n",
       "    }\n",
       "</style>\n",
       "<table border=\"1\" class=\"dataframe\">\n",
       "  <thead>\n",
       "    <tr style=\"text-align: right;\">\n",
       "      <th></th>\n",
       "      <th>Media</th>\n",
       "      <th>Vol</th>\n",
       "      <th>RS</th>\n",
       "    </tr>\n",
       "  </thead>\n",
       "  <tbody>\n",
       "    <tr>\n",
       "      <th>0</th>\n",
       "      <td>139.181350</td>\n",
       "      <td>3841.532403</td>\n",
       "      <td>0.036220</td>\n",
       "    </tr>\n",
       "    <tr>\n",
       "      <th>1</th>\n",
       "      <td>139.135294</td>\n",
       "      <td>3702.619751</td>\n",
       "      <td>0.037566</td>\n",
       "    </tr>\n",
       "    <tr>\n",
       "      <th>2</th>\n",
       "      <td>139.089238</td>\n",
       "      <td>3566.249551</td>\n",
       "      <td>0.038990</td>\n",
       "    </tr>\n",
       "    <tr>\n",
       "      <th>3</th>\n",
       "      <td>139.043182</td>\n",
       "      <td>3432.421805</td>\n",
       "      <td>0.040496</td>\n",
       "    </tr>\n",
       "    <tr>\n",
       "      <th>4</th>\n",
       "      <td>138.997126</td>\n",
       "      <td>3301.136511</td>\n",
       "      <td>0.042093</td>\n",
       "    </tr>\n",
       "    <tr>\n",
       "      <th>5</th>\n",
       "      <td>138.951070</td>\n",
       "      <td>3172.393669</td>\n",
       "      <td>0.043787</td>\n",
       "    </tr>\n",
       "    <tr>\n",
       "      <th>6</th>\n",
       "      <td>138.905013</td>\n",
       "      <td>3046.193280</td>\n",
       "      <td>0.045585</td>\n",
       "    </tr>\n",
       "    <tr>\n",
       "      <th>7</th>\n",
       "      <td>138.858957</td>\n",
       "      <td>2922.535344</td>\n",
       "      <td>0.047499</td>\n",
       "    </tr>\n",
       "    <tr>\n",
       "      <th>8</th>\n",
       "      <td>138.812901</td>\n",
       "      <td>2801.419860</td>\n",
       "      <td>0.049536</td>\n",
       "    </tr>\n",
       "    <tr>\n",
       "      <th>9</th>\n",
       "      <td>138.766845</td>\n",
       "      <td>2682.846829</td>\n",
       "      <td>0.051708</td>\n",
       "    </tr>\n",
       "    <tr>\n",
       "      <th>10</th>\n",
       "      <td>138.720789</td>\n",
       "      <td>2566.816251</td>\n",
       "      <td>0.054027</td>\n",
       "    </tr>\n",
       "    <tr>\n",
       "      <th>11</th>\n",
       "      <td>138.674733</td>\n",
       "      <td>2453.328125</td>\n",
       "      <td>0.056508</td>\n",
       "    </tr>\n",
       "    <tr>\n",
       "      <th>12</th>\n",
       "      <td>138.628676</td>\n",
       "      <td>2342.382452</td>\n",
       "      <td>0.059164</td>\n",
       "    </tr>\n",
       "    <tr>\n",
       "      <th>13</th>\n",
       "      <td>138.582620</td>\n",
       "      <td>2233.979231</td>\n",
       "      <td>0.062015</td>\n",
       "    </tr>\n",
       "    <tr>\n",
       "      <th>14</th>\n",
       "      <td>138.536564</td>\n",
       "      <td>2128.118463</td>\n",
       "      <td>0.065078</td>\n",
       "    </tr>\n",
       "    <tr>\n",
       "      <th>15</th>\n",
       "      <td>138.490508</td>\n",
       "      <td>2024.800148</td>\n",
       "      <td>0.068376</td>\n",
       "    </tr>\n",
       "    <tr>\n",
       "      <th>16</th>\n",
       "      <td>138.444452</td>\n",
       "      <td>1924.024285</td>\n",
       "      <td>0.071933</td>\n",
       "    </tr>\n",
       "    <tr>\n",
       "      <th>17</th>\n",
       "      <td>138.398395</td>\n",
       "      <td>1825.790875</td>\n",
       "      <td>0.075778</td>\n",
       "    </tr>\n",
       "    <tr>\n",
       "      <th>18</th>\n",
       "      <td>138.352339</td>\n",
       "      <td>1730.099917</td>\n",
       "      <td>0.079943</td>\n",
       "    </tr>\n",
       "    <tr>\n",
       "      <th>19</th>\n",
       "      <td>138.306283</td>\n",
       "      <td>1636.951413</td>\n",
       "      <td>0.084464</td>\n",
       "    </tr>\n",
       "    <tr>\n",
       "      <th>20</th>\n",
       "      <td>138.260227</td>\n",
       "      <td>1546.345360</td>\n",
       "      <td>0.089383</td>\n",
       "    </tr>\n",
       "    <tr>\n",
       "      <th>21</th>\n",
       "      <td>138.214171</td>\n",
       "      <td>1458.281760</td>\n",
       "      <td>0.094749</td>\n",
       "    </tr>\n",
       "    <tr>\n",
       "      <th>22</th>\n",
       "      <td>138.168115</td>\n",
       "      <td>1372.760613</td>\n",
       "      <td>0.100619</td>\n",
       "    </tr>\n",
       "    <tr>\n",
       "      <th>23</th>\n",
       "      <td>138.122058</td>\n",
       "      <td>1289.781919</td>\n",
       "      <td>0.107056</td>\n",
       "    </tr>\n",
       "    <tr>\n",
       "      <th>24</th>\n",
       "      <td>138.076002</td>\n",
       "      <td>1209.345677</td>\n",
       "      <td>0.114139</td>\n",
       "    </tr>\n",
       "    <tr>\n",
       "      <th>25</th>\n",
       "      <td>138.029946</td>\n",
       "      <td>1131.451888</td>\n",
       "      <td>0.121956</td>\n",
       "    </tr>\n",
       "    <tr>\n",
       "      <th>26</th>\n",
       "      <td>137.983890</td>\n",
       "      <td>1056.100551</td>\n",
       "      <td>0.130614</td>\n",
       "    </tr>\n",
       "    <tr>\n",
       "      <th>27</th>\n",
       "      <td>137.937834</td>\n",
       "      <td>983.291667</td>\n",
       "      <td>0.140238</td>\n",
       "    </tr>\n",
       "    <tr>\n",
       "      <th>28</th>\n",
       "      <td>137.891778</td>\n",
       "      <td>913.025236</td>\n",
       "      <td>0.150980</td>\n",
       "    </tr>\n",
       "    <tr>\n",
       "      <th>29</th>\n",
       "      <td>137.845721</td>\n",
       "      <td>845.301257</td>\n",
       "      <td>0.163022</td>\n",
       "    </tr>\n",
       "    <tr>\n",
       "      <th>30</th>\n",
       "      <td>137.799665</td>\n",
       "      <td>780.119730</td>\n",
       "      <td>0.176584</td>\n",
       "    </tr>\n",
       "    <tr>\n",
       "      <th>31</th>\n",
       "      <td>137.753609</td>\n",
       "      <td>717.480657</td>\n",
       "      <td>0.191936</td>\n",
       "    </tr>\n",
       "    <tr>\n",
       "      <th>32</th>\n",
       "      <td>137.707553</td>\n",
       "      <td>657.384036</td>\n",
       "      <td>0.209413</td>\n",
       "    </tr>\n",
       "    <tr>\n",
       "      <th>33</th>\n",
       "      <td>137.661497</td>\n",
       "      <td>599.829867</td>\n",
       "      <td>0.229429</td>\n",
       "    </tr>\n",
       "    <tr>\n",
       "      <th>34</th>\n",
       "      <td>137.615441</td>\n",
       "      <td>544.818152</td>\n",
       "      <td>0.252511</td>\n",
       "    </tr>\n",
       "    <tr>\n",
       "      <th>35</th>\n",
       "      <td>137.569384</td>\n",
       "      <td>492.348888</td>\n",
       "      <td>0.279327</td>\n",
       "    </tr>\n",
       "    <tr>\n",
       "      <th>36</th>\n",
       "      <td>137.523328</td>\n",
       "      <td>442.422078</td>\n",
       "      <td>0.310745</td>\n",
       "    </tr>\n",
       "    <tr>\n",
       "      <th>37</th>\n",
       "      <td>137.477272</td>\n",
       "      <td>395.037720</td>\n",
       "      <td>0.347902</td>\n",
       "    </tr>\n",
       "    <tr>\n",
       "      <th>38</th>\n",
       "      <td>137.431216</td>\n",
       "      <td>350.195815</td>\n",
       "      <td>0.392319</td>\n",
       "    </tr>\n",
       "    <tr>\n",
       "      <th>39</th>\n",
       "      <td>137.385160</td>\n",
       "      <td>307.896362</td>\n",
       "      <td>0.446067</td>\n",
       "    </tr>\n",
       "    <tr>\n",
       "      <th>40</th>\n",
       "      <td>137.339104</td>\n",
       "      <td>268.139362</td>\n",
       "      <td>0.512033</td>\n",
       "    </tr>\n",
       "    <tr>\n",
       "      <th>41</th>\n",
       "      <td>137.293047</td>\n",
       "      <td>230.924814</td>\n",
       "      <td>0.594350</td>\n",
       "    </tr>\n",
       "    <tr>\n",
       "      <th>42</th>\n",
       "      <td>137.246991</td>\n",
       "      <td>196.252719</td>\n",
       "      <td>0.699119</td>\n",
       "    </tr>\n",
       "    <tr>\n",
       "      <th>43</th>\n",
       "      <td>137.200935</td>\n",
       "      <td>164.123077</td>\n",
       "      <td>0.835702</td>\n",
       "    </tr>\n",
       "    <tr>\n",
       "      <th>44</th>\n",
       "      <td>137.154879</td>\n",
       "      <td>134.535887</td>\n",
       "      <td>1.019148</td>\n",
       "    </tr>\n",
       "    <tr>\n",
       "      <th>45</th>\n",
       "      <td>137.108823</td>\n",
       "      <td>107.491150</td>\n",
       "      <td>1.275137</td>\n",
       "    </tr>\n",
       "    <tr>\n",
       "      <th>46</th>\n",
       "      <td>137.062767</td>\n",
       "      <td>82.988866</td>\n",
       "      <td>1.651063</td>\n",
       "    </tr>\n",
       "    <tr>\n",
       "      <th>47</th>\n",
       "      <td>137.016710</td>\n",
       "      <td>61.029034</td>\n",
       "      <td>2.244404</td>\n",
       "    </tr>\n",
       "    <tr>\n",
       "      <th>48</th>\n",
       "      <td>136.970654</td>\n",
       "      <td>41.611655</td>\n",
       "      <td>3.290611</td>\n",
       "    </tr>\n",
       "    <tr>\n",
       "      <th>49</th>\n",
       "      <td>136.924598</td>\n",
       "      <td>24.736728</td>\n",
       "      <td>5.533541</td>\n",
       "    </tr>\n",
       "  </tbody>\n",
       "</table>\n",
       "</div>"
      ],
      "text/plain": [
       "         Media          Vol        RS\n",
       "0   139.181350  3841.532403  0.036220\n",
       "1   139.135294  3702.619751  0.037566\n",
       "2   139.089238  3566.249551  0.038990\n",
       "3   139.043182  3432.421805  0.040496\n",
       "4   138.997126  3301.136511  0.042093\n",
       "5   138.951070  3172.393669  0.043787\n",
       "6   138.905013  3046.193280  0.045585\n",
       "7   138.858957  2922.535344  0.047499\n",
       "8   138.812901  2801.419860  0.049536\n",
       "9   138.766845  2682.846829  0.051708\n",
       "10  138.720789  2566.816251  0.054027\n",
       "11  138.674733  2453.328125  0.056508\n",
       "12  138.628676  2342.382452  0.059164\n",
       "13  138.582620  2233.979231  0.062015\n",
       "14  138.536564  2128.118463  0.065078\n",
       "15  138.490508  2024.800148  0.068376\n",
       "16  138.444452  1924.024285  0.071933\n",
       "17  138.398395  1825.790875  0.075778\n",
       "18  138.352339  1730.099917  0.079943\n",
       "19  138.306283  1636.951413  0.084464\n",
       "20  138.260227  1546.345360  0.089383\n",
       "21  138.214171  1458.281760  0.094749\n",
       "22  138.168115  1372.760613  0.100619\n",
       "23  138.122058  1289.781919  0.107056\n",
       "24  138.076002  1209.345677  0.114139\n",
       "25  138.029946  1131.451888  0.121956\n",
       "26  137.983890  1056.100551  0.130614\n",
       "27  137.937834   983.291667  0.140238\n",
       "28  137.891778   913.025236  0.150980\n",
       "29  137.845721   845.301257  0.163022\n",
       "30  137.799665   780.119730  0.176584\n",
       "31  137.753609   717.480657  0.191936\n",
       "32  137.707553   657.384036  0.209413\n",
       "33  137.661497   599.829867  0.229429\n",
       "34  137.615441   544.818152  0.252511\n",
       "35  137.569384   492.348888  0.279327\n",
       "36  137.523328   442.422078  0.310745\n",
       "37  137.477272   395.037720  0.347902\n",
       "38  137.431216   350.195815  0.392319\n",
       "39  137.385160   307.896362  0.446067\n",
       "40  137.339104   268.139362  0.512033\n",
       "41  137.293047   230.924814  0.594350\n",
       "42  137.246991   196.252719  0.699119\n",
       "43  137.200935   164.123077  0.835702\n",
       "44  137.154879   134.535887  1.019148\n",
       "45  137.108823   107.491150  1.275137\n",
       "46  137.062767    82.988866  1.651063\n",
       "47  137.016710    61.029034  2.244404\n",
       "48  136.970654    41.611655  3.290611\n",
       "49  136.924598    24.736728  5.533541"
      ]
     },
     "execution_count": 6,
     "metadata": {},
     "output_type": "execute_result"
    }
   ],
   "source": [
    "mn.frontera"
   ]
  },
  {
   "cell_type": "code",
   "execution_count": 7,
   "metadata": {},
   "outputs": [
    {
     "data": {
      "image/png": "[encoded data removed]",
      "text/plain": [
       "<Figure size 432x288 with 2 Axes>"
      ]
     },
     "metadata": {
      "needs_background": "light"
     },
     "output_type": "display_data"
    }
   ],
   "source": [
    "mn.frontera_ef(mn.frontera)"
   ]
  },
  {
   "cell_type": "markdown",
   "metadata": {},
   "source": [
    "#### Portafolio eficiente\n",
    "Con los pesos obtenidos se construyó el siguiente portafolio eficiente utilizando las siguientes acciones: "
   ]
  },
  {
   "cell_type": "code",
   "execution_count": 8,
   "metadata": {},
   "outputs": [
    {
     "data": {
      "text/html": [
       "<div>\n",
       "<style scoped>\n",
       "    .dataframe tbody tr th:only-of-type {\n",
       "        vertical-align: middle;\n",
       "    }\n",
       "\n",
       "    .dataframe tbody tr th {\n",
       "        vertical-align: top;\n",
       "    }\n",
       "\n",
       "    .dataframe thead th {\n",
       "        text-align: right;\n",
       "    }\n",
       "</style>\n",
       "<table border=\"1\" class=\"dataframe\">\n",
       "  <thead>\n",
       "    <tr style=\"text-align: right;\">\n",
       "      <th></th>\n",
       "      <th>index</th>\n",
       "      <th>Pesos%</th>\n",
       "      <th>Postura</th>\n",
       "      <th>Precio</th>\n",
       "      <th>Titulos</th>\n",
       "    </tr>\n",
       "  </thead>\n",
       "  <tbody>\n",
       "    <tr>\n",
       "      <th>4</th>\n",
       "      <td>ASURB.MX</td>\n",
       "      <td>1.463652</td>\n",
       "      <td>14636.519344</td>\n",
       "      <td>404.209961</td>\n",
       "      <td>36.0</td>\n",
       "    </tr>\n",
       "    <tr>\n",
       "      <th>7</th>\n",
       "      <td>BOLSAA.MX</td>\n",
       "      <td>31.015362</td>\n",
       "      <td>310153.619233</td>\n",
       "      <td>36.755547</td>\n",
       "      <td>8438.0</td>\n",
       "    </tr>\n",
       "    <tr>\n",
       "      <th>10</th>\n",
       "      <td>ELEKTRA.MX</td>\n",
       "      <td>1.962774</td>\n",
       "      <td>19627.740146</td>\n",
       "      <td>1543.668213</td>\n",
       "      <td>13.0</td>\n",
       "    </tr>\n",
       "    <tr>\n",
       "      <th>17</th>\n",
       "      <td>GMEXICOB.MX</td>\n",
       "      <td>8.578882</td>\n",
       "      <td>85788.818874</td>\n",
       "      <td>84.621071</td>\n",
       "      <td>1014.0</td>\n",
       "    </tr>\n",
       "    <tr>\n",
       "      <th>18</th>\n",
       "      <td>GRUMAB.MX</td>\n",
       "      <td>17.172056</td>\n",
       "      <td>171720.563109</td>\n",
       "      <td>253.802933</td>\n",
       "      <td>677.0</td>\n",
       "    </tr>\n",
       "    <tr>\n",
       "      <th>20</th>\n",
       "      <td>KOFUBL.MX</td>\n",
       "      <td>9.479587</td>\n",
       "      <td>94795.867683</td>\n",
       "      <td>96.044899</td>\n",
       "      <td>987.0</td>\n",
       "    </tr>\n",
       "    <tr>\n",
       "      <th>22</th>\n",
       "      <td>MEGACPO.MX</td>\n",
       "      <td>8.504113</td>\n",
       "      <td>85041.131130</td>\n",
       "      <td>66.381622</td>\n",
       "      <td>1281.0</td>\n",
       "    </tr>\n",
       "    <tr>\n",
       "      <th>25</th>\n",
       "      <td>PE&amp;OLES.MX</td>\n",
       "      <td>5.417238</td>\n",
       "      <td>54172.377992</td>\n",
       "      <td>235.559998</td>\n",
       "      <td>230.0</td>\n",
       "    </tr>\n",
       "    <tr>\n",
       "      <th>27</th>\n",
       "      <td>Q.MX</td>\n",
       "      <td>16.183124</td>\n",
       "      <td>161831.243974</td>\n",
       "      <td>97.639099</td>\n",
       "      <td>1657.0</td>\n",
       "    </tr>\n",
       "    <tr>\n",
       "      <th>29</th>\n",
       "      <td>VESTA.MX</td>\n",
       "      <td>0.223212</td>\n",
       "      <td>2232.118513</td>\n",
       "      <td>41.094971</td>\n",
       "      <td>54.0</td>\n",
       "    </tr>\n",
       "  </tbody>\n",
       "</table>\n",
       "</div>"
      ],
      "text/plain": [
       "          index     Pesos%        Postura       Precio  Titulos\n",
       "4      ASURB.MX   1.463652   14636.519344   404.209961     36.0\n",
       "7     BOLSAA.MX  31.015362  310153.619233    36.755547   8438.0\n",
       "10   ELEKTRA.MX   1.962774   19627.740146  1543.668213     13.0\n",
       "17  GMEXICOB.MX   8.578882   85788.818874    84.621071   1014.0\n",
       "18    GRUMAB.MX  17.172056  171720.563109   253.802933    677.0\n",
       "20    KOFUBL.MX   9.479587   94795.867683    96.044899    987.0\n",
       "22   MEGACPO.MX   8.504113   85041.131130    66.381622   1281.0\n",
       "25   PE&OLES.MX   5.417238   54172.377992   235.559998    230.0\n",
       "27         Q.MX  16.183124  161831.243974    97.639099   1657.0\n",
       "29     VESTA.MX   0.223212    2232.118513    41.094971     54.0"
      ]
     },
     "execution_count": 8,
     "metadata": {},
     "output_type": "execute_result"
    }
   ],
   "source": [
    "mn.titulos_pef"
   ]
  },
  {
   "cell_type": "markdown",
   "metadata": {},
   "source": [
    "#### Operaciones\n",
    "Se hizo una iteración diaria con los datos del año2 y se obtuvo el siguiente resultado:"
   ]
  },
  {
   "cell_type": "code",
   "execution_count": 9,
   "metadata": {},
   "outputs": [
    {
     "data": {
      "text/html": [
       "<div>\n",
       "<style scoped>\n",
       "    .dataframe tbody tr th:only-of-type {\n",
       "        vertical-align: middle;\n",
       "    }\n",
       "\n",
       "    .dataframe tbody tr th {\n",
       "        vertical-align: top;\n",
       "    }\n",
       "\n",
       "    .dataframe thead th {\n",
       "        text-align: right;\n",
       "    }\n",
       "</style>\n",
       "<table border=\"1\" class=\"dataframe\">\n",
       "  <thead>\n",
       "    <tr style=\"text-align: right;\">\n",
       "      <th></th>\n",
       "      <th>timestamp</th>\n",
       "      <th>titulos_totales</th>\n",
       "      <th>titulos_op</th>\n",
       "      <th>cash_acum</th>\n",
       "      <th>comision_x_op</th>\n",
       "      <th>comision_acum</th>\n",
       "      <th>rend</th>\n",
       "      <th>rend_acum</th>\n",
       "    </tr>\n",
       "  </thead>\n",
       "  <tbody>\n",
       "    <tr>\n",
       "      <th>0</th>\n",
       "      <td>2022-03-01</td>\n",
       "      <td>14028.0</td>\n",
       "      <td>14028.0</td>\n",
       "      <td>1000000</td>\n",
       "      <td>0.000</td>\n",
       "      <td>0.000000e+00</td>\n",
       "      <td>0.000000</td>\n",
       "      <td>0.000000</td>\n",
       "    </tr>\n",
       "    <tr>\n",
       "      <th>1</th>\n",
       "      <td>2022-03-02</td>\n",
       "      <td>14379.0</td>\n",
       "      <td>351.0</td>\n",
       "      <td>1025099.672</td>\n",
       "      <td>1281.375</td>\n",
       "      <td>1.281375e+03</td>\n",
       "      <td>0.025100</td>\n",
       "      <td>0.025100</td>\n",
       "    </tr>\n",
       "    <tr>\n",
       "      <th>2</th>\n",
       "      <td>2022-03-03</td>\n",
       "      <td>14738.0</td>\n",
       "      <td>359.0</td>\n",
       "      <td>1050716.286</td>\n",
       "      <td>1313.395</td>\n",
       "      <td>2.594770e+03</td>\n",
       "      <td>0.024989</td>\n",
       "      <td>0.050089</td>\n",
       "    </tr>\n",
       "    <tr>\n",
       "      <th>3</th>\n",
       "      <td>2022-03-04</td>\n",
       "      <td>15107.0</td>\n",
       "      <td>369.0</td>\n",
       "      <td>1076985.359</td>\n",
       "      <td>1346.232</td>\n",
       "      <td>3.941002e+03</td>\n",
       "      <td>0.025001</td>\n",
       "      <td>0.075090</td>\n",
       "    </tr>\n",
       "    <tr>\n",
       "      <th>4</th>\n",
       "      <td>2022-03-07</td>\n",
       "      <td>15482.0</td>\n",
       "      <td>375.0</td>\n",
       "      <td>1103023.596</td>\n",
       "      <td>1378.779</td>\n",
       "      <td>5.319781e+03</td>\n",
       "      <td>0.024177</td>\n",
       "      <td>0.099267</td>\n",
       "    </tr>\n",
       "    <tr>\n",
       "      <th>...</th>\n",
       "      <td>...</td>\n",
       "      <td>...</td>\n",
       "      <td>...</td>\n",
       "      <td>...</td>\n",
       "      <td>...</td>\n",
       "      <td>...</td>\n",
       "      <td>...</td>\n",
       "      <td>...</td>\n",
       "    </tr>\n",
       "    <tr>\n",
       "      <th>224</th>\n",
       "      <td>2023-01-18</td>\n",
       "      <td>3180130.0</td>\n",
       "      <td>77564.0</td>\n",
       "      <td>213891795.984</td>\n",
       "      <td>267364.745</td>\n",
       "      <td>1.075452e+07</td>\n",
       "      <td>0.026766</td>\n",
       "      <td>5.430806</td>\n",
       "    </tr>\n",
       "    <tr>\n",
       "      <th>225</th>\n",
       "      <td>2023-01-19</td>\n",
       "      <td>3259634.0</td>\n",
       "      <td>79504.0</td>\n",
       "      <td>219608646.668</td>\n",
       "      <td>274510.808</td>\n",
       "      <td>1.102903e+07</td>\n",
       "      <td>0.026728</td>\n",
       "      <td>5.457534</td>\n",
       "    </tr>\n",
       "    <tr>\n",
       "      <th>226</th>\n",
       "      <td>2023-01-20</td>\n",
       "      <td>3341124.0</td>\n",
       "      <td>81490.0</td>\n",
       "      <td>225486873.457</td>\n",
       "      <td>281858.592</td>\n",
       "      <td>1.131089e+07</td>\n",
       "      <td>0.026767</td>\n",
       "      <td>5.484301</td>\n",
       "    </tr>\n",
       "    <tr>\n",
       "      <th>227</th>\n",
       "      <td>2023-01-23</td>\n",
       "      <td>3424653.0</td>\n",
       "      <td>83529.0</td>\n",
       "      <td>231539280.589</td>\n",
       "      <td>289424.101</td>\n",
       "      <td>1.160031e+07</td>\n",
       "      <td>0.026842</td>\n",
       "      <td>5.511142</td>\n",
       "    </tr>\n",
       "    <tr>\n",
       "      <th>228</th>\n",
       "      <td>2023-01-24</td>\n",
       "      <td>3510269.0</td>\n",
       "      <td>85616.0</td>\n",
       "      <td>237795361.109</td>\n",
       "      <td>297244.201</td>\n",
       "      <td>1.189756e+07</td>\n",
       "      <td>0.027020</td>\n",
       "      <td>5.538162</td>\n",
       "    </tr>\n",
       "  </tbody>\n",
       "</table>\n",
       "<p>229 rows × 8 columns</p>\n",
       "</div>"
      ],
      "text/plain": [
       "      timestamp titulos_totales titulos_op      cash_acum  comision_x_op  \\\n",
       "0    2022-03-01         14028.0    14028.0        1000000          0.000   \n",
       "1    2022-03-02         14379.0      351.0    1025099.672       1281.375   \n",
       "2    2022-03-03         14738.0      359.0    1050716.286       1313.395   \n",
       "3    2022-03-04         15107.0      369.0    1076985.359       1346.232   \n",
       "4    2022-03-07         15482.0      375.0    1103023.596       1378.779   \n",
       "..          ...             ...        ...            ...            ...   \n",
       "224  2023-01-18       3180130.0    77564.0  213891795.984     267364.745   \n",
       "225  2023-01-19       3259634.0    79504.0  219608646.668     274510.808   \n",
       "226  2023-01-20       3341124.0    81490.0  225486873.457     281858.592   \n",
       "227  2023-01-23       3424653.0    83529.0  231539280.589     289424.101   \n",
       "228  2023-01-24       3510269.0    85616.0  237795361.109     297244.201   \n",
       "\n",
       "     comision_acum      rend  rend_acum  \n",
       "0     0.000000e+00  0.000000   0.000000  \n",
       "1     1.281375e+03  0.025100   0.025100  \n",
       "2     2.594770e+03  0.024989   0.050089  \n",
       "3     3.941002e+03  0.025001   0.075090  \n",
       "4     5.319781e+03  0.024177   0.099267  \n",
       "..             ...       ...        ...  \n",
       "224   1.075452e+07  0.026766   5.430806  \n",
       "225   1.102903e+07  0.026728   5.457534  \n",
       "226   1.131089e+07  0.026767   5.484301  \n",
       "227   1.160031e+07  0.026842   5.511142  \n",
       "228   1.189756e+07  0.027020   5.538162  \n",
       "\n",
       "[229 rows x 8 columns]"
      ]
     },
     "execution_count": 9,
     "metadata": {},
     "output_type": "execute_result"
    }
   ],
   "source": [
    "mn.df_op"
   ]
  },
  {
   "cell_type": "markdown",
   "metadata": {},
   "source": [
    "Se realizaron únicamente 2 ventas de títulos en el año.\n"
   ]
  },
  {
   "cell_type": "code",
   "execution_count": 10,
   "metadata": {},
   "outputs": [
    {
     "data": {
      "text/html": [
       "<div>\n",
       "<style scoped>\n",
       "    .dataframe tbody tr th:only-of-type {\n",
       "        vertical-align: middle;\n",
       "    }\n",
       "\n",
       "    .dataframe tbody tr th {\n",
       "        vertical-align: top;\n",
       "    }\n",
       "\n",
       "    .dataframe thead th {\n",
       "        text-align: right;\n",
       "    }\n",
       "</style>\n",
       "<table border=\"1\" class=\"dataframe\">\n",
       "  <thead>\n",
       "    <tr style=\"text-align: right;\">\n",
       "      <th></th>\n",
       "      <th>timestamp</th>\n",
       "      <th>titulos_totales</th>\n",
       "      <th>titulos_op</th>\n",
       "      <th>cash_acum</th>\n",
       "      <th>comision_x_op</th>\n",
       "      <th>comision_acum</th>\n",
       "      <th>rend</th>\n",
       "      <th>rend_acum</th>\n",
       "    </tr>\n",
       "  </thead>\n",
       "  <tbody>\n",
       "    <tr>\n",
       "      <th>62</th>\n",
       "      <td>2022-05-31</td>\n",
       "      <td>62213.0</td>\n",
       "      <td>-294.0</td>\n",
       "      <td>4370409.979</td>\n",
       "      <td>5463.012</td>\n",
       "      <td>180129.264</td>\n",
       "      <td>0.008819</td>\n",
       "      <td>1.492739</td>\n",
       "    </tr>\n",
       "    <tr>\n",
       "      <th>71</th>\n",
       "      <td>2022-06-13</td>\n",
       "      <td>75441.0</td>\n",
       "      <td>-311.0</td>\n",
       "      <td>5335531.37</td>\n",
       "      <td>6669.414</td>\n",
       "      <td>235487.980</td>\n",
       "      <td>0.008988</td>\n",
       "      <td>1.694601</td>\n",
       "    </tr>\n",
       "  </tbody>\n",
       "</table>\n",
       "</div>"
      ],
      "text/plain": [
       "     timestamp titulos_totales titulos_op    cash_acum  comision_x_op  \\\n",
       "62  2022-05-31         62213.0     -294.0  4370409.979       5463.012   \n",
       "71  2022-06-13         75441.0     -311.0   5335531.37       6669.414   \n",
       "\n",
       "    comision_acum      rend  rend_acum  \n",
       "62     180129.264  0.008819   1.492739  \n",
       "71     235487.980  0.008988   1.694601  "
      ]
     },
     "execution_count": 10,
     "metadata": {},
     "output_type": "execute_result"
    }
   ],
   "source": [
    "mn.ventas"
   ]
  },
  {
   "cell_type": "markdown",
   "metadata": {},
   "source": [
    "<br>"
   ]
  },
  {
   "cell_type": "markdown",
   "metadata": {},
   "source": [
    "# <font color= #6B6B6B> <font size = 6> 6. References </font>"
   ]
  },
  {
   "cell_type": "markdown",
   "metadata": {},
   "source": [
    "<hr style=\"border:0.02in solid gray\"> </hr>"
   ]
  },
  {
   "cell_type": "markdown",
   "metadata": {},
   "source": [
    "- Anotaciones de clase de Portafolios de inversión (repositorio ya no disponible en Github).\n",
    "- Documentación Python\n",
    "- Documentación pandas\n",
    "- Documentación yhfinance"
   ]
  },
  {
   "cell_type": "markdown",
   "metadata": {},
   "source": [
    "<br>"
   ]
  },
  {
   "cell_type": "markdown",
   "metadata": {},
   "source": [
    "<hr style=\"border:0.02in solid red\"> </hr>"
   ]
  }
 ],
 "metadata": {
  "kernelspec": {
   "display_name": "Python 3 (ipykernel)",
   "language": "python",
   "name": "python3"
  },
  "language_info": {
   "codemirror_mode": {
    "name": "ipython",
    "version": 3
   },
   "file_extension": ".py",
   "mimetype": "text/x-python",
   "name": "python",
   "nbconvert_exporter": "python",
   "pygments_lexer": "ipython3",
   "version": "3.9.7"
  }
 },
 "nbformat": 4,
 "nbformat_minor": 4
}
